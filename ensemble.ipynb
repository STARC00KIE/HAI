{
 "cells": [
  {
   "cell_type": "markdown",
   "metadata": {},
   "source": [
    "# 앙상블 추가"
   ]
  },
  {
   "cell_type": "markdown",
   "metadata": {},
   "source": [
    "# Import"
   ]
  },
  {
   "cell_type": "code",
   "execution_count": 1,
   "metadata": {},
   "outputs": [
    {
     "name": "stderr",
     "output_type": "stream",
     "text": [
      "c:\\Users\\user\\miniconda3\\envs\\HAI\\Lib\\site-packages\\tqdm\\auto.py:21: TqdmWarning: IProgress not found. Please update jupyter and ipywidgets. See https://ipywidgets.readthedocs.io/en/stable/user_install.html\n",
      "  from .autonotebook import tqdm as notebook_tqdm\n"
     ]
    },
    {
     "name": "stdout",
     "output_type": "stream",
     "text": [
      "Using device: cuda\n"
     ]
    }
   ],
   "source": [
    "import os\n",
    "import random\n",
    "\n",
    "import pandas as pd\n",
    "import numpy as np\n",
    "\n",
    "from PIL import Image\n",
    "from tqdm import tqdm \n",
    "\n",
    "from sklearn.model_selection import train_test_split\n",
    "\n",
    "import torch\n",
    "from torch.utils.data import Dataset, DataLoader, Subset\n",
    "import torchvision.models as models\n",
    "import torchvision.transforms as transforms\n",
    "import torch.nn.functional as F\n",
    "from torch import nn, optim\n",
    "import torch.nn as nn\n",
    "\n",
    "import albumentations as A\n",
    "from albumentations.pytorch import ToTensorV2\n",
    "\n",
    "from sklearn.metrics import log_loss\n",
    "import torch.nn as nn\n",
    "import timm\n",
    "\n",
    "device = torch.device(\"cuda\" if torch.cuda.is_available() else \"cpu\")\n",
    "print(\"Using device:\", device)"
   ]
  },
  {
   "cell_type": "markdown",
   "metadata": {},
   "source": [
    "# Hyperparameter Setting"
   ]
  },
  {
   "cell_type": "code",
   "execution_count": 2,
   "metadata": {},
   "outputs": [],
   "source": [
    "# 'IMG_SIZE': 224, # 모델에 입력되는 이미지 크기\n",
    "# 'BATCH_SIZE': 64, # 한 번에 모델에 넣는 이미지 수\n",
    "# 'EPOCHS': 50, # 전체 데이터를 몇 번 반복 학습할지\n",
    "#'LEARNING_RATE': 가중치 업데이트 정도를 조절하는 학습률\n",
    "# 'SEED' : 무작위 요소들을 고정하여 실험 결과를 재현 가능하게 함\n",
    "# \n",
    "CFG = {\n",
    "    'MODEL_NAME': 'resnet18',\n",
    "    'IMG_SIZE': 384,\n",
    "    'BATCH_SIZE': 64,\n",
    "    'EPOCHS': 50,\n",
    "    'LEARNING_RATE': 1e-4,\n",
    "    'SEED' : 42,\n",
    "    'FILE_NAME' : 'ResNet18_224_c_NAug'\n",
    "}"
   ]
  },
  {
   "cell_type": "markdown",
   "metadata": {},
   "source": [
    "# Fixed RandomSeed"
   ]
  },
  {
   "cell_type": "code",
   "execution_count": 3,
   "metadata": {},
   "outputs": [],
   "source": [
    "# 딥러닝 학습 과정에서는 무작위성이 많이 개입된\n",
    "# 무작위성: 데이터 로딩 순서, 가중치 초기화, dropout, 데이터 증강, gpu 연산의 비결정성\n",
    "# 그레서 시드를 고정하지 안으면 매번 실행할 때마다 결과가 달라짐\n",
    "# 동일한 결과가 재현되도록 하기 위한 설정이 seed_everyting 함수수\n",
    "def seed_everything(seed):\n",
    "    random.seed(seed)\n",
    "    os.environ['PYTHONHASHSEED'] = str(seed)\n",
    "    np.random.seed(seed)\n",
    "    torch.manual_seed(seed)\n",
    "    torch.cuda.manual_seed(seed)\n",
    "    torch.backends.cudnn.deterministic = True\n",
    "    torch.backends.cudnn.benchmark = False\n",
    "\n",
    "seed_everything(CFG['SEED']) # Seed 고정"
   ]
  },
  {
   "cell_type": "markdown",
   "metadata": {},
   "source": [
    "# CustomDataset"
   ]
  },
  {
   "cell_type": "code",
   "execution_count": 4,
   "metadata": {},
   "outputs": [],
   "source": [
    "class CustomImageDataset(Dataset):\n",
    "    def __init__(self, root_dir, transform=None, is_test=False):\n",
    "        self.root_dir = root_dir\n",
    "        self.transform = transform\n",
    "        self.is_test = is_test\n",
    "        self.samples = []\n",
    "\n",
    "        if is_test:\n",
    "            # 테스트셋: 라벨 없이 이미지 경로만 저장\n",
    "            for fname in sorted(os.listdir(root_dir)):\n",
    "                if fname.lower().endswith(('.jpg')):\n",
    "                    img_path = os.path.join(root_dir, fname)\n",
    "                    self.samples.append((img_path,))\n",
    "        else:\n",
    "            # 학습셋: 클래스별 폴더 구조에서 라벨 추출\n",
    "            self.classes = sorted(os.listdir(root_dir))\n",
    "            self.class_to_idx = {cls_name: i for i, cls_name in enumerate(self.classes)}\n",
    "\n",
    "            for cls_name in self.classes:\n",
    "                cls_folder = os.path.join(root_dir, cls_name)\n",
    "                for fname in os.listdir(cls_folder):\n",
    "                    if fname.lower().endswith(('.jpg')):\n",
    "                        img_path = os.path.join(cls_folder, fname)\n",
    "                        label = self.class_to_idx[cls_name]\n",
    "                        self.samples.append((img_path, label))\n",
    "\n",
    "    def __len__(self):\n",
    "        return len(self.samples)\n",
    "\n",
    "    def __getitem__(self, idx):\n",
    "        if self.is_test:\n",
    "            img_path = self.samples[idx][0]\n",
    "            image = np.array(Image.open(img_path).convert('RGB'))\n",
    "            if self.transform:\n",
    "                image = self.transform(image=image)['image']\n",
    "            return image\n",
    "        else:\n",
    "            img_path, label = self.samples[idx]\n",
    "            image = np.array(Image.open(img_path).convert('RGB'))\n",
    "            if self.transform:\n",
    "                image = self.transform(image=image)['image']\n",
    "            return image, label\n"
   ]
  },
  {
   "cell_type": "markdown",
   "metadata": {},
   "source": [
    "# Data Load"
   ]
  },
  {
   "cell_type": "code",
   "execution_count": 5,
   "metadata": {},
   "outputs": [],
   "source": [
    "train_root = './data/train'\n",
    "test_root = './data/test'"
   ]
  },
  {
   "cell_type": "code",
   "execution_count": 6,
   "metadata": {},
   "outputs": [
    {
     "name": "stderr",
     "output_type": "stream",
     "text": [
      "c:\\Users\\user\\miniconda3\\envs\\HAI\\Lib\\site-packages\\albumentations\\core\\validation.py:111: UserWarning: ShiftScaleRotate is a special case of Affine transform. Please use Affine transform instead.\n",
      "  original_init(self, **validated_kwargs)\n",
      "C:\\Users\\user\\AppData\\Local\\Temp\\ipykernel_13684\\2295189183.py:28: UserWarning: Argument(s) 'max_holes, max_height, max_width' are not valid for transform CoarseDropout\n",
      "  A.CoarseDropout(max_holes=2,          # 최대 2개 영역 제거\n"
     ]
    }
   ],
   "source": [
    "# 학습 데이터에 적용할 데이터 증강 파이프라인\n",
    "train_transform = A.Compose([\n",
    "    # 이미지 크기를 모델 입력 크기에 맞게 고정\n",
    "    A.Resize(CFG['IMG_SIZE'], CFG['IMG_SIZE']),\n",
    "\n",
    "    # 좌우 반전: 차량이 좌우 어느 방향을 향해 있어도 학습 가능하도록\n",
    "    A.HorizontalFlip(p=0.5),\n",
    "\n",
    "    # 밝기/대비 랜덤 조절: 야외 촬영 시 조명 차이를 반영\n",
    "    A.RandomBrightnessContrast(p=0.2),\n",
    "\n",
    "    # 색조(Hue), 채도(Saturation), 명도(Value) 변경: 색상에 덜 민감하게\n",
    "    A.HueSaturationValue(p=0.2),\n",
    "\n",
    "    # 이미지 이동, 확대/축소, 회전: 다양한 촬영 각도 및 위치 대응\n",
    "    A.ShiftScaleRotate(shift_limit=0.05,   # 최대 ±5% 이동\n",
    "                       scale_limit=0.05,   # 최대 ±5% 확대/축소\n",
    "                       rotate_limit=15,    # 최대 ±15도 회전\n",
    "                       p=0.5),\n",
    "\n",
    "    # 그림자 효과 추가: 자연광 환경에서의 촬영 상황을 반영\n",
    "    A.RandomShadow(p=0.2),\n",
    "\n",
    "    # RGB 채널별 색상 이동: 다양한 카메라 환경, 화이트밸런스 차이 대응\n",
    "    A.RGBShift(r_shift_limit=10, g_shift_limit=10, b_shift_limit=10, p=0.2),\n",
    "\n",
    "    # 이미지 일부분을 무작위로 지우기 (일부 가림 상황을 반영)\n",
    "    A.CoarseDropout(max_holes=2,          # 최대 2개 영역 제거\n",
    "                    max_height=16, \n",
    "                    max_width=16, \n",
    "                    p=0.3),\n",
    "\n",
    "    # 픽셀값을 정규화 (ImageNet 사전학습 모델 기준 평균/표준편차)\n",
    "    A.Normalize(mean=(0.485, 0.456, 0.406), \n",
    "                std=(0.229, 0.224, 0.225)),\n",
    "\n",
    "    # numpy 이미지 → PyTorch Tensor 변환\n",
    "    ToTensorV2()\n",
    "])\n",
    "\n",
    "val_transform = A.Compose([\n",
    "    A.Resize(CFG['IMG_SIZE'], CFG['IMG_SIZE']),\n",
    "    A.Normalize(mean=(0.485, 0.456, 0.406), \n",
    "                std=(0.229, 0.224, 0.225)),\n",
    "    ToTensorV2()\n",
    "])"
   ]
  },
  {
   "cell_type": "code",
   "execution_count": 7,
   "metadata": {},
   "outputs": [
    {
     "name": "stdout",
     "output_type": "stream",
     "text": [
      "총 이미지 수: 33137\n",
      "train 이미지 수: 26509, valid 이미지 수: 6628\n"
     ]
    }
   ],
   "source": [
    "# 전체 데이터셋 로드\n",
    "full_dataset = CustomImageDataset(train_root, transform=None)\n",
    "print(f\"총 이미지 수: {len(full_dataset)}\")\n",
    "\n",
    "targets = [label for _, label in full_dataset.samples]\n",
    "class_names = full_dataset.classes\n",
    "\n",
    "# Stratified Split\n",
    "train_idx, val_idx = train_test_split(\n",
    "    range(len(targets)), test_size=0.2, stratify=targets, random_state=42\n",
    ")\n",
    "\n",
    "# Subset + transform 각각 적용\n",
    "train_dataset = Subset(CustomImageDataset(train_root, transform=train_transform), train_idx)\n",
    "val_dataset = Subset(CustomImageDataset(train_root, transform=val_transform), val_idx)\n",
    "print(f'train 이미지 수: {len(train_dataset)}, valid 이미지 수: {len(val_dataset)}')\n",
    "\n",
    "\n",
    "# DataLoader 정의\n",
    "train_loader = DataLoader(train_dataset, batch_size=CFG['BATCH_SIZE'], shuffle=True)\n",
    "val_loader = DataLoader(val_dataset, batch_size=CFG['BATCH_SIZE'], shuffle=False)"
   ]
  },
  {
   "cell_type": "markdown",
   "metadata": {},
   "source": [
    "# Model Define"
   ]
  },
  {
   "cell_type": "code",
   "execution_count": 8,
   "metadata": {},
   "outputs": [],
   "source": [
    "class BaseModel(nn.Module):\n",
    "    def __init__(self, model_name: str, num_classes: int):\n",
    "        super(BaseModel, self).__init__()\n",
    "        self.backbone = timm.create_model(model_name, pretrained=True, num_classes=0)  # 분류기 제거\n",
    "\n",
    "        # 자동 in_features 추출\n",
    "        try:\n",
    "            in_features = self.backbone.num_features  # timm 공통 속성\n",
    "        except:\n",
    "            raise ValueError(f\"Could not find in_features for model {model_name}\")\n",
    "\n",
    "        # pooling 여부 결정 (ConvNeXt 같은 경우 필요)\n",
    "        self.needs_pooling = hasattr(self.backbone, 'head') and isinstance(self.backbone.head, nn.Identity) is False\n",
    "        self.pool = nn.AdaptiveAvgPool2d((1, 1)) if self._is_2d_output() else None\n",
    "\n",
    "        self.classifier = nn.Linear(in_features, num_classes)\n",
    "\n",
    "    def _is_2d_output(self):\n",
    "        # ConvNeXt, EfficientNet 등은 (B, C, H, W)로 출력됨 → AdaptiveAvgPool 필요\n",
    "        example_input = torch.randn(1, 3, 224, 224)\n",
    "        with torch.no_grad():\n",
    "            output = self.backbone(example_input)\n",
    "        return output.dim() == 4\n",
    "\n",
    "    def forward(self, x):\n",
    "        x = self.backbone(x)\n",
    "        if self.pool:\n",
    "            x = self.pool(x)\n",
    "            x = x.view(x.size(0), -1)\n",
    "        x = self.classifier(x)\n",
    "        return x"
   ]
  },
  {
   "cell_type": "markdown",
   "metadata": {},
   "source": [
    "# Train/ Validation"
   ]
  },
  {
   "cell_type": "code",
   "execution_count": null,
   "metadata": {},
   "outputs": [],
   "source": [
    "class Trainer:\n",
    "    def __init__(self, model_name, class_names, train_loader, val_loader, device, cfg):\n",
    "        self.model_name = model_name\n",
    "        self.class_names = class_names\n",
    "        self.train_loader = train_loader\n",
    "        self.val_loader = val_loader\n",
    "        self.device = device\n",
    "        self.cfg = cfg\n",
    "        self.num_classes = len(class_names)\n",
    "\n",
    "        self.model = BaseModel(model_name=self.model_name, num_classes=self.num_classes).to(self.device)\n",
    "        self.criterion = nn.CrossEntropyLoss()\n",
    "        self.optimizer = optim.Adam(self.model.parameters(), lr=cfg['LEARNING_RATE'])\n",
    "        self.best_logloss = float('inf')\n",
    "\n",
    "        os.makedirs('./pth', exist_ok=True)\n",
    "\n",
    "    def train(self):\n",
    "        # 얼리스토핑 기능 추가해야됨\n",
    "        patience = self.cfg.get('PATIENCE', 5)\n",
    "        counter = 0\n",
    "        \n",
    "        for epoch in range(self.cfg['EPOCHS']):\n",
    "            self.model.train()\n",
    "            total_train_loss = 0\n",
    "            for images, labels in tqdm(self.train_loader, desc=f\"[{self.model_name}] Epoch {epoch+1}/{self.cfg['EPOCHS']} - Training\"):\n",
    "                images, labels = images.to(self.device), labels.to(self.device)\n",
    "                self.optimizer.zero_grad()\n",
    "                outputs = self.model(images)\n",
    "                loss = self.criterion(outputs, labels)\n",
    "                loss.backward()\n",
    "                self.optimizer.step()\n",
    "                total_train_loss += loss.item()\n",
    "\n",
    "            avg_train_loss = total_train_loss / len(self.train_loader)\n",
    "            avg_val_loss, val_accuracy, val_logloss = self.validate(epoch)\n",
    "\n",
    "            if val_logloss < self.best_logloss:\n",
    "                self.best_logloss = val_logloss\n",
    "                save_path = f\"./pth/best_model_{self.model_name}.pth\"\n",
    "                torch.save(self.model.state_dict(), save_path)\n",
    "                print(f\"✅ Best model saved: {save_path} (logloss: {val_logloss:.4f})\")\n",
    "                self.counter = 0\n",
    "            else:\n",
    "                self.counter += 1\n",
    "                print(f\"⚠️ No improvement for {self.counter} epoch(s)\")\n",
    "                if self.counter >= self.patience:\n",
    "                    print(f\"⏹ Early stopping {self.model_name} at epoch {epoch+1}\")\n",
    "                    break\n",
    "\n",
    "    def validate(self, epoch):\n",
    "        self.model.eval()\n",
    "        val_loss = 0\n",
    "        correct, total = 0, 0\n",
    "        all_probs, all_labels = [], []\n",
    "\n",
    "        with torch.no_grad():\n",
    "            for images, labels in tqdm(self.val_loader, desc=f\"[{self.model_name}] Epoch {epoch+1}/{self.cfg['EPOCHS']} - Validation\"):\n",
    "                images, labels = images.to(self.device), labels.to(self.device)\n",
    "                outputs = self.model(images)\n",
    "                loss = self.criterion(outputs, labels)\n",
    "                val_loss += loss.item()\n",
    "\n",
    "                _, preds = torch.max(outputs, 1)\n",
    "                correct += (preds == labels).sum().item()\n",
    "                total += labels.size(0)\n",
    "\n",
    "                probs = F.softmax(outputs, dim=1)\n",
    "                all_probs.extend(probs.cpu().numpy())\n",
    "                all_labels.extend(labels.cpu().numpy())\n",
    "\n",
    "        avg_val_loss = val_loss / len(self.val_loader)\n",
    "        val_accuracy = 100 * correct / total\n",
    "        val_logloss = log_loss(all_labels, all_probs, labels=list(range(len(self.class_names))))\n",
    "        print(f\"✅ [Val] Loss: {avg_val_loss:.4f}, Acc: {val_accuracy:.2f}%, LogLoss: {val_logloss:.4f}\")\n",
    "        return avg_val_loss, val_accuracy, val_logloss\n"
   ]
  },
  {
   "cell_type": "code",
   "execution_count": null,
   "metadata": {},
   "outputs": [],
   "source": [
    "# 모델학습 이터레이션\n",
    "def train_all_models(model_names, class_names, train_loader, val_loader, device, config):\n",
    "    for name in model_names:\n",
    "        trainer = Trainer(\n",
    "            model_name=name,\n",
    "            num_classes=len(class_names),\n",
    "            train_loader=train_loader,\n",
    "            val_loader=val_loader,\n",
    "            class_names=class_names,\n",
    "            device=device,\n",
    "            config=config\n",
    "        )\n",
    "        trainer.train()"
   ]
  },
  {
   "cell_type": "code",
   "execution_count": 10,
   "metadata": {},
   "outputs": [
    {
     "name": "stderr",
     "output_type": "stream",
     "text": [
      "[Epoch 1/50] Training: 100%|██████████| 415/415 [52:22<00:00,  7.57s/it]\n",
      "[Epoch 1/50] Validation: 100%|██████████| 104/104 [02:14<00:00,  1.29s/it]\n",
      "c:\\Users\\user\\miniconda3\\envs\\HAI\\Lib\\site-packages\\sklearn\\metrics\\_classification.py:3001: UserWarning: The y_pred values do not sum to one. Make sure to pass probabilities.\n",
      "  warnings.warn(\n"
     ]
    },
    {
     "name": "stdout",
     "output_type": "stream",
     "text": [
      "Train Loss : 5.9300 || Valid Loss : 5.7189 | Valid Accuracy : 2.5498%\n",
      "📦 Best model saved at epoch 1 (logloss: 5.7189)\n"
     ]
    },
    {
     "name": "stderr",
     "output_type": "stream",
     "text": [
      "[Epoch 2/50] Training: 100%|██████████| 415/415 [43:20<00:00,  6.27s/it]\n",
      "[Epoch 2/50] Validation: 100%|██████████| 104/104 [02:32<00:00,  1.46s/it]\n",
      "c:\\Users\\user\\miniconda3\\envs\\HAI\\Lib\\site-packages\\sklearn\\metrics\\_classification.py:3001: UserWarning: The y_pred values do not sum to one. Make sure to pass probabilities.\n",
      "  warnings.warn(\n"
     ]
    },
    {
     "name": "stdout",
     "output_type": "stream",
     "text": [
      "Train Loss : 5.3366 || Valid Loss : 4.7022 | Valid Accuracy : 16.8377%\n",
      "📦 Best model saved at epoch 2 (logloss: 4.7015)\n"
     ]
    },
    {
     "name": "stderr",
     "output_type": "stream",
     "text": [
      "[Epoch 3/50] Training: 100%|██████████| 415/415 [49:20<00:00,  7.13s/it]\n",
      "[Epoch 3/50] Validation: 100%|██████████| 104/104 [02:28<00:00,  1.43s/it]\n",
      "c:\\Users\\user\\miniconda3\\envs\\HAI\\Lib\\site-packages\\sklearn\\metrics\\_classification.py:3001: UserWarning: The y_pred values do not sum to one. Make sure to pass probabilities.\n",
      "  warnings.warn(\n"
     ]
    },
    {
     "name": "stdout",
     "output_type": "stream",
     "text": [
      "Train Loss : 4.3537 || Valid Loss : 3.7155 | Valid Accuracy : 36.3458%\n",
      "📦 Best model saved at epoch 3 (logloss: 3.7148)\n"
     ]
    },
    {
     "name": "stderr",
     "output_type": "stream",
     "text": [
      "[Epoch 4/50] Training: 100%|██████████| 415/415 [56:24<00:00,  8.16s/it]\n",
      "[Epoch 4/50] Validation: 100%|██████████| 104/104 [03:19<00:00,  1.92s/it]\n",
      "c:\\Users\\user\\miniconda3\\envs\\HAI\\Lib\\site-packages\\sklearn\\metrics\\_classification.py:3001: UserWarning: The y_pred values do not sum to one. Make sure to pass probabilities.\n",
      "  warnings.warn(\n"
     ]
    },
    {
     "name": "stdout",
     "output_type": "stream",
     "text": [
      "Train Loss : 3.3494 || Valid Loss : 2.7012 | Valid Accuracy : 53.5456%\n",
      "📦 Best model saved at epoch 4 (logloss: 2.7001)\n"
     ]
    },
    {
     "name": "stderr",
     "output_type": "stream",
     "text": [
      "[Epoch 5/50] Training: 100%|██████████| 415/415 [55:08<00:00,  7.97s/it] \n",
      "[Epoch 5/50] Validation: 100%|██████████| 104/104 [02:33<00:00,  1.47s/it]\n",
      "c:\\Users\\user\\miniconda3\\envs\\HAI\\Lib\\site-packages\\sklearn\\metrics\\_classification.py:3001: UserWarning: The y_pred values do not sum to one. Make sure to pass probabilities.\n",
      "  warnings.warn(\n"
     ]
    },
    {
     "name": "stdout",
     "output_type": "stream",
     "text": [
      "Train Loss : 2.4870 || Valid Loss : 1.9876 | Valid Accuracy : 66.2945%\n",
      "📦 Best model saved at epoch 5 (logloss: 1.9870)\n"
     ]
    },
    {
     "name": "stderr",
     "output_type": "stream",
     "text": [
      "[Epoch 6/50] Training: 100%|██████████| 415/415 [47:19<00:00,  6.84s/it]\n",
      "[Epoch 6/50] Validation: 100%|██████████| 104/104 [02:27<00:00,  1.41s/it]\n",
      "c:\\Users\\user\\miniconda3\\envs\\HAI\\Lib\\site-packages\\sklearn\\metrics\\_classification.py:3001: UserWarning: The y_pred values do not sum to one. Make sure to pass probabilities.\n",
      "  warnings.warn(\n"
     ]
    },
    {
     "name": "stdout",
     "output_type": "stream",
     "text": [
      "Train Loss : 1.8417 || Valid Loss : 1.4610 | Valid Accuracy : 74.2456%\n",
      "📦 Best model saved at epoch 6 (logloss: 1.4608)\n"
     ]
    },
    {
     "name": "stderr",
     "output_type": "stream",
     "text": [
      "[Epoch 7/50] Training: 100%|██████████| 415/415 [48:13<00:00,  6.97s/it]\n",
      "[Epoch 7/50] Validation: 100%|██████████| 104/104 [02:20<00:00,  1.35s/it]\n",
      "c:\\Users\\user\\miniconda3\\envs\\HAI\\Lib\\site-packages\\sklearn\\metrics\\_classification.py:3001: UserWarning: The y_pred values do not sum to one. Make sure to pass probabilities.\n",
      "  warnings.warn(\n"
     ]
    },
    {
     "name": "stdout",
     "output_type": "stream",
     "text": [
      "Train Loss : 1.3841 || Valid Loss : 1.1138 | Valid Accuracy : 80.1901%\n",
      "📦 Best model saved at epoch 7 (logloss: 1.1136)\n"
     ]
    },
    {
     "name": "stderr",
     "output_type": "stream",
     "text": [
      "[Epoch 8/50] Training: 100%|██████████| 415/415 [46:29<00:00,  6.72s/it]\n",
      "[Epoch 8/50] Validation: 100%|██████████| 104/104 [02:15<00:00,  1.30s/it]\n",
      "c:\\Users\\user\\miniconda3\\envs\\HAI\\Lib\\site-packages\\sklearn\\metrics\\_classification.py:3001: UserWarning: The y_pred values do not sum to one. Make sure to pass probabilities.\n",
      "  warnings.warn(\n"
     ]
    },
    {
     "name": "stdout",
     "output_type": "stream",
     "text": [
      "Train Loss : 1.0744 || Valid Loss : 0.8946 | Valid Accuracy : 83.1473%\n",
      "📦 Best model saved at epoch 8 (logloss: 0.8946)\n"
     ]
    },
    {
     "name": "stderr",
     "output_type": "stream",
     "text": [
      "[Epoch 9/50] Training: 100%|██████████| 415/415 [42:47<00:00,  6.19s/it]\n",
      "[Epoch 9/50] Validation: 100%|██████████| 104/104 [02:15<00:00,  1.30s/it]\n",
      "c:\\Users\\user\\miniconda3\\envs\\HAI\\Lib\\site-packages\\sklearn\\metrics\\_classification.py:3001: UserWarning: The y_pred values do not sum to one. Make sure to pass probabilities.\n",
      "  warnings.warn(\n"
     ]
    },
    {
     "name": "stdout",
     "output_type": "stream",
     "text": [
      "Train Loss : 0.8528 || Valid Loss : 0.7231 | Valid Accuracy : 85.0483%\n",
      "📦 Best model saved at epoch 9 (logloss: 0.7231)\n"
     ]
    },
    {
     "name": "stderr",
     "output_type": "stream",
     "text": [
      "[Epoch 10/50] Training: 100%|██████████| 415/415 [42:19<00:00,  6.12s/it]\n",
      "[Epoch 10/50] Validation: 100%|██████████| 104/104 [02:10<00:00,  1.26s/it]\n",
      "c:\\Users\\user\\miniconda3\\envs\\HAI\\Lib\\site-packages\\sklearn\\metrics\\_classification.py:3001: UserWarning: The y_pred values do not sum to one. Make sure to pass probabilities.\n",
      "  warnings.warn(\n"
     ]
    },
    {
     "name": "stdout",
     "output_type": "stream",
     "text": [
      "Train Loss : 0.7008 || Valid Loss : 0.6088 | Valid Accuracy : 86.6626%\n",
      "📦 Best model saved at epoch 10 (logloss: 0.6088)\n"
     ]
    },
    {
     "name": "stderr",
     "output_type": "stream",
     "text": [
      "[Epoch 11/50] Training: 100%|██████████| 415/415 [42:05<00:00,  6.08s/it]\n",
      "[Epoch 11/50] Validation: 100%|██████████| 104/104 [02:10<00:00,  1.26s/it]\n",
      "c:\\Users\\user\\miniconda3\\envs\\HAI\\Lib\\site-packages\\sklearn\\metrics\\_classification.py:3001: UserWarning: The y_pred values do not sum to one. Make sure to pass probabilities.\n",
      "  warnings.warn(\n"
     ]
    },
    {
     "name": "stdout",
     "output_type": "stream",
     "text": [
      "Train Loss : 0.5790 || Valid Loss : 0.5269 | Valid Accuracy : 88.7296%\n",
      "📦 Best model saved at epoch 11 (logloss: 0.5268)\n"
     ]
    },
    {
     "name": "stderr",
     "output_type": "stream",
     "text": [
      "[Epoch 12/50] Training: 100%|██████████| 415/415 [42:03<00:00,  6.08s/it]\n",
      "[Epoch 12/50] Validation: 100%|██████████| 104/104 [02:10<00:00,  1.25s/it]\n",
      "c:\\Users\\user\\miniconda3\\envs\\HAI\\Lib\\site-packages\\sklearn\\metrics\\_classification.py:3001: UserWarning: The y_pred values do not sum to one. Make sure to pass probabilities.\n",
      "  warnings.warn(\n"
     ]
    },
    {
     "name": "stdout",
     "output_type": "stream",
     "text": [
      "Train Loss : 0.4914 || Valid Loss : 0.4614 | Valid Accuracy : 89.5293%\n",
      "📦 Best model saved at epoch 12 (logloss: 0.4613)\n"
     ]
    },
    {
     "name": "stderr",
     "output_type": "stream",
     "text": [
      "[Epoch 13/50] Training: 100%|██████████| 415/415 [42:18<00:00,  6.12s/it]\n",
      "[Epoch 13/50] Validation: 100%|██████████| 104/104 [02:11<00:00,  1.26s/it]\n",
      "c:\\Users\\user\\miniconda3\\envs\\HAI\\Lib\\site-packages\\sklearn\\metrics\\_classification.py:3001: UserWarning: The y_pred values do not sum to one. Make sure to pass probabilities.\n",
      "  warnings.warn(\n"
     ]
    },
    {
     "name": "stdout",
     "output_type": "stream",
     "text": [
      "Train Loss : 0.4238 || Valid Loss : 0.4072 | Valid Accuracy : 90.1629%\n",
      "📦 Best model saved at epoch 13 (logloss: 0.4073)\n"
     ]
    },
    {
     "name": "stderr",
     "output_type": "stream",
     "text": [
      "[Epoch 14/50] Training: 100%|██████████| 415/415 [42:17<00:00,  6.11s/it]\n",
      "[Epoch 14/50] Validation: 100%|██████████| 104/104 [02:10<00:00,  1.26s/it]\n",
      "c:\\Users\\user\\miniconda3\\envs\\HAI\\Lib\\site-packages\\sklearn\\metrics\\_classification.py:3001: UserWarning: The y_pred values do not sum to one. Make sure to pass probabilities.\n",
      "  warnings.warn(\n"
     ]
    },
    {
     "name": "stdout",
     "output_type": "stream",
     "text": [
      "Train Loss : 0.3692 || Valid Loss : 0.3696 | Valid Accuracy : 90.7664%\n",
      "📦 Best model saved at epoch 14 (logloss: 0.3696)\n"
     ]
    },
    {
     "name": "stderr",
     "output_type": "stream",
     "text": [
      "[Epoch 15/50] Training: 100%|██████████| 415/415 [42:16<00:00,  6.11s/it]\n",
      "[Epoch 15/50] Validation: 100%|██████████| 104/104 [02:11<00:00,  1.26s/it]\n",
      "c:\\Users\\user\\miniconda3\\envs\\HAI\\Lib\\site-packages\\sklearn\\metrics\\_classification.py:3001: UserWarning: The y_pred values do not sum to one. Make sure to pass probabilities.\n",
      "  warnings.warn(\n"
     ]
    },
    {
     "name": "stdout",
     "output_type": "stream",
     "text": [
      "Train Loss : 0.3273 || Valid Loss : 0.3429 | Valid Accuracy : 91.1436%\n",
      "📦 Best model saved at epoch 15 (logloss: 0.3430)\n"
     ]
    },
    {
     "name": "stderr",
     "output_type": "stream",
     "text": [
      "[Epoch 16/50] Training: 100%|██████████| 415/415 [42:21<00:00,  6.13s/it]\n",
      "[Epoch 16/50] Validation: 100%|██████████| 104/104 [02:11<00:00,  1.27s/it]\n",
      "c:\\Users\\user\\miniconda3\\envs\\HAI\\Lib\\site-packages\\sklearn\\metrics\\_classification.py:3001: UserWarning: The y_pred values do not sum to one. Make sure to pass probabilities.\n",
      "  warnings.warn(\n"
     ]
    },
    {
     "name": "stdout",
     "output_type": "stream",
     "text": [
      "Train Loss : 0.2858 || Valid Loss : 0.3089 | Valid Accuracy : 91.7320%\n",
      "📦 Best model saved at epoch 16 (logloss: 0.3088)\n"
     ]
    },
    {
     "name": "stderr",
     "output_type": "stream",
     "text": [
      "[Epoch 17/50] Training: 100%|██████████| 415/415 [42:21<00:00,  6.12s/it]\n",
      "[Epoch 17/50] Validation: 100%|██████████| 104/104 [02:11<00:00,  1.26s/it]\n",
      "c:\\Users\\user\\miniconda3\\envs\\HAI\\Lib\\site-packages\\sklearn\\metrics\\_classification.py:3001: UserWarning: The y_pred values do not sum to one. Make sure to pass probabilities.\n",
      "  warnings.warn(\n"
     ]
    },
    {
     "name": "stdout",
     "output_type": "stream",
     "text": [
      "Train Loss : 0.2555 || Valid Loss : 0.2875 | Valid Accuracy : 91.9282%\n",
      "📦 Best model saved at epoch 17 (logloss: 0.2875)\n"
     ]
    },
    {
     "name": "stderr",
     "output_type": "stream",
     "text": [
      "[Epoch 18/50] Training: 100%|██████████| 415/415 [42:14<00:00,  6.11s/it]\n",
      "[Epoch 18/50] Validation: 100%|██████████| 104/104 [02:11<00:00,  1.26s/it]\n",
      "c:\\Users\\user\\miniconda3\\envs\\HAI\\Lib\\site-packages\\sklearn\\metrics\\_classification.py:3001: UserWarning: The y_pred values do not sum to one. Make sure to pass probabilities.\n",
      "  warnings.warn(\n"
     ]
    },
    {
     "name": "stdout",
     "output_type": "stream",
     "text": [
      "Train Loss : 0.2314 || Valid Loss : 0.2872 | Valid Accuracy : 92.3506%\n",
      "📦 Best model saved at epoch 18 (logloss: 0.2871)\n"
     ]
    },
    {
     "name": "stderr",
     "output_type": "stream",
     "text": [
      "[Epoch 19/50] Training: 100%|██████████| 415/415 [42:19<00:00,  6.12s/it]\n",
      "[Epoch 19/50] Validation: 100%|██████████| 104/104 [02:12<00:00,  1.27s/it]\n",
      "c:\\Users\\user\\miniconda3\\envs\\HAI\\Lib\\site-packages\\sklearn\\metrics\\_classification.py:3001: UserWarning: The y_pred values do not sum to one. Make sure to pass probabilities.\n",
      "  warnings.warn(\n"
     ]
    },
    {
     "name": "stdout",
     "output_type": "stream",
     "text": [
      "Train Loss : 0.2095 || Valid Loss : 0.2554 | Valid Accuracy : 92.6071%\n",
      "📦 Best model saved at epoch 19 (logloss: 0.2555)\n"
     ]
    },
    {
     "name": "stderr",
     "output_type": "stream",
     "text": [
      "[Epoch 20/50] Training: 100%|██████████| 415/415 [42:13<00:00,  6.10s/it]\n",
      "[Epoch 20/50] Validation: 100%|██████████| 104/104 [02:11<00:00,  1.26s/it]\n",
      "c:\\Users\\user\\miniconda3\\envs\\HAI\\Lib\\site-packages\\sklearn\\metrics\\_classification.py:3001: UserWarning: The y_pred values do not sum to one. Make sure to pass probabilities.\n",
      "  warnings.warn(\n"
     ]
    },
    {
     "name": "stdout",
     "output_type": "stream",
     "text": [
      "Train Loss : 0.1911 || Valid Loss : 0.2489 | Valid Accuracy : 92.7731%\n",
      "📦 Best model saved at epoch 20 (logloss: 0.2489)\n"
     ]
    },
    {
     "name": "stderr",
     "output_type": "stream",
     "text": [
      "[Epoch 21/50] Training: 100%|██████████| 415/415 [42:13<00:00,  6.11s/it]\n",
      "[Epoch 21/50] Validation: 100%|██████████| 104/104 [02:11<00:00,  1.27s/it]\n",
      "c:\\Users\\user\\miniconda3\\envs\\HAI\\Lib\\site-packages\\sklearn\\metrics\\_classification.py:3001: UserWarning: The y_pred values do not sum to one. Make sure to pass probabilities.\n",
      "  warnings.warn(\n"
     ]
    },
    {
     "name": "stdout",
     "output_type": "stream",
     "text": [
      "Train Loss : 0.1754 || Valid Loss : 0.2364 | Valid Accuracy : 93.0748%\n",
      "📦 Best model saved at epoch 21 (logloss: 0.2364)\n"
     ]
    },
    {
     "name": "stderr",
     "output_type": "stream",
     "text": [
      "[Epoch 22/50] Training: 100%|██████████| 415/415 [42:18<00:00,  6.12s/it]\n",
      "[Epoch 22/50] Validation: 100%|██████████| 104/104 [02:10<00:00,  1.26s/it]\n",
      "c:\\Users\\user\\miniconda3\\envs\\HAI\\Lib\\site-packages\\sklearn\\metrics\\_classification.py:3001: UserWarning: The y_pred values do not sum to one. Make sure to pass probabilities.\n",
      "  warnings.warn(\n"
     ]
    },
    {
     "name": "stdout",
     "output_type": "stream",
     "text": [
      "Train Loss : 0.1600 || Valid Loss : 0.2283 | Valid Accuracy : 93.4520%\n",
      "📦 Best model saved at epoch 22 (logloss: 0.2283)\n"
     ]
    },
    {
     "name": "stderr",
     "output_type": "stream",
     "text": [
      "[Epoch 23/50] Training: 100%|██████████| 415/415 [42:16<00:00,  6.11s/it]\n",
      "[Epoch 23/50] Validation: 100%|██████████| 104/104 [02:11<00:00,  1.26s/it]\n",
      "c:\\Users\\user\\miniconda3\\envs\\HAI\\Lib\\site-packages\\sklearn\\metrics\\_classification.py:3001: UserWarning: The y_pred values do not sum to one. Make sure to pass probabilities.\n",
      "  warnings.warn(\n"
     ]
    },
    {
     "name": "stdout",
     "output_type": "stream",
     "text": [
      "Train Loss : 0.1449 || Valid Loss : 0.2205 | Valid Accuracy : 93.4822%\n",
      "📦 Best model saved at epoch 23 (logloss: 0.2204)\n"
     ]
    },
    {
     "name": "stderr",
     "output_type": "stream",
     "text": [
      "[Epoch 24/50] Training: 100%|██████████| 415/415 [42:14<00:00,  6.11s/it]\n",
      "[Epoch 24/50] Validation: 100%|██████████| 104/104 [02:10<00:00,  1.26s/it]\n",
      "c:\\Users\\user\\miniconda3\\envs\\HAI\\Lib\\site-packages\\sklearn\\metrics\\_classification.py:3001: UserWarning: The y_pred values do not sum to one. Make sure to pass probabilities.\n",
      "  warnings.warn(\n"
     ]
    },
    {
     "name": "stdout",
     "output_type": "stream",
     "text": [
      "Train Loss : 0.1362 || Valid Loss : 0.2262 | Valid Accuracy : 93.1654%\n",
      "⚠️ No improvement for 1 epoch(s).\n"
     ]
    },
    {
     "name": "stderr",
     "output_type": "stream",
     "text": [
      "[Epoch 25/50] Training: 100%|██████████| 415/415 [42:14<00:00,  6.11s/it]\n",
      "[Epoch 25/50] Validation: 100%|██████████| 104/104 [02:10<00:00,  1.26s/it]\n",
      "c:\\Users\\user\\miniconda3\\envs\\HAI\\Lib\\site-packages\\sklearn\\metrics\\_classification.py:3001: UserWarning: The y_pred values do not sum to one. Make sure to pass probabilities.\n",
      "  warnings.warn(\n"
     ]
    },
    {
     "name": "stdout",
     "output_type": "stream",
     "text": [
      "Train Loss : 0.1273 || Valid Loss : 0.2123 | Valid Accuracy : 93.7085%\n",
      "📦 Best model saved at epoch 25 (logloss: 0.2124)\n"
     ]
    },
    {
     "name": "stderr",
     "output_type": "stream",
     "text": [
      "[Epoch 26/50] Training: 100%|██████████| 415/415 [42:12<00:00,  6.10s/it]\n",
      "[Epoch 26/50] Validation: 100%|██████████| 104/104 [02:10<00:00,  1.26s/it]\n",
      "c:\\Users\\user\\miniconda3\\envs\\HAI\\Lib\\site-packages\\sklearn\\metrics\\_classification.py:3001: UserWarning: The y_pred values do not sum to one. Make sure to pass probabilities.\n",
      "  warnings.warn(\n"
     ]
    },
    {
     "name": "stdout",
     "output_type": "stream",
     "text": [
      "Train Loss : 0.1172 || Valid Loss : 0.2017 | Valid Accuracy : 93.9952%\n",
      "📦 Best model saved at epoch 26 (logloss: 0.2018)\n"
     ]
    },
    {
     "name": "stderr",
     "output_type": "stream",
     "text": [
      "[Epoch 27/50] Training: 100%|██████████| 415/415 [42:18<00:00,  6.12s/it]\n",
      "[Epoch 27/50] Validation: 100%|██████████| 104/104 [02:10<00:00,  1.26s/it]\n",
      "c:\\Users\\user\\miniconda3\\envs\\HAI\\Lib\\site-packages\\sklearn\\metrics\\_classification.py:3001: UserWarning: The y_pred values do not sum to one. Make sure to pass probabilities.\n",
      "  warnings.warn(\n"
     ]
    },
    {
     "name": "stdout",
     "output_type": "stream",
     "text": [
      "Train Loss : 0.1087 || Valid Loss : 0.2055 | Valid Accuracy : 93.7990%\n",
      "⚠️ No improvement for 1 epoch(s).\n"
     ]
    },
    {
     "name": "stderr",
     "output_type": "stream",
     "text": [
      "[Epoch 28/50] Training: 100%|██████████| 415/415 [42:12<00:00,  6.10s/it]\n",
      "[Epoch 28/50] Validation: 100%|██████████| 104/104 [02:10<00:00,  1.26s/it]\n",
      "c:\\Users\\user\\miniconda3\\envs\\HAI\\Lib\\site-packages\\sklearn\\metrics\\_classification.py:3001: UserWarning: The y_pred values do not sum to one. Make sure to pass probabilities.\n",
      "  warnings.warn(\n"
     ]
    },
    {
     "name": "stdout",
     "output_type": "stream",
     "text": [
      "Train Loss : 0.1043 || Valid Loss : 0.1943 | Valid Accuracy : 94.0857%\n",
      "📦 Best model saved at epoch 28 (logloss: 0.1942)\n"
     ]
    },
    {
     "name": "stderr",
     "output_type": "stream",
     "text": [
      "[Epoch 29/50] Training: 100%|██████████| 415/415 [42:14<00:00,  6.11s/it]\n",
      "[Epoch 29/50] Validation: 100%|██████████| 104/104 [02:10<00:00,  1.26s/it]\n",
      "c:\\Users\\user\\miniconda3\\envs\\HAI\\Lib\\site-packages\\sklearn\\metrics\\_classification.py:3001: UserWarning: The y_pred values do not sum to one. Make sure to pass probabilities.\n",
      "  warnings.warn(\n"
     ]
    },
    {
     "name": "stdout",
     "output_type": "stream",
     "text": [
      "Train Loss : 0.0941 || Valid Loss : 0.1922 | Valid Accuracy : 94.2366%\n",
      "📦 Best model saved at epoch 29 (logloss: 0.1921)\n"
     ]
    },
    {
     "name": "stderr",
     "output_type": "stream",
     "text": [
      "[Epoch 30/50] Training: 100%|██████████| 415/415 [42:08<00:00,  6.09s/it]\n",
      "[Epoch 30/50] Validation: 100%|██████████| 104/104 [02:11<00:00,  1.26s/it]\n",
      "c:\\Users\\user\\miniconda3\\envs\\HAI\\Lib\\site-packages\\sklearn\\metrics\\_classification.py:3001: UserWarning: The y_pred values do not sum to one. Make sure to pass probabilities.\n",
      "  warnings.warn(\n"
     ]
    },
    {
     "name": "stdout",
     "output_type": "stream",
     "text": [
      "Train Loss : 0.0920 || Valid Loss : 0.1900 | Valid Accuracy : 94.3724%\n",
      "📦 Best model saved at epoch 30 (logloss: 0.1899)\n"
     ]
    },
    {
     "name": "stderr",
     "output_type": "stream",
     "text": [
      "[Epoch 31/50] Training: 100%|██████████| 415/415 [43:23<00:00,  6.27s/it]\n",
      "[Epoch 31/50] Validation: 100%|██████████| 104/104 [02:19<00:00,  1.34s/it]\n",
      "c:\\Users\\user\\miniconda3\\envs\\HAI\\Lib\\site-packages\\sklearn\\metrics\\_classification.py:3001: UserWarning: The y_pred values do not sum to one. Make sure to pass probabilities.\n",
      "  warnings.warn(\n"
     ]
    },
    {
     "name": "stdout",
     "output_type": "stream",
     "text": [
      "Train Loss : 0.0851 || Valid Loss : 0.1858 | Valid Accuracy : 94.2969%\n",
      "📦 Best model saved at epoch 31 (logloss: 0.1859)\n"
     ]
    },
    {
     "name": "stderr",
     "output_type": "stream",
     "text": [
      "[Epoch 32/50] Training: 100%|██████████| 415/415 [43:04<00:00,  6.23s/it]\n",
      "[Epoch 32/50] Validation: 100%|██████████| 104/104 [02:19<00:00,  1.34s/it]\n",
      "c:\\Users\\user\\miniconda3\\envs\\HAI\\Lib\\site-packages\\sklearn\\metrics\\_classification.py:3001: UserWarning: The y_pred values do not sum to one. Make sure to pass probabilities.\n",
      "  warnings.warn(\n"
     ]
    },
    {
     "name": "stdout",
     "output_type": "stream",
     "text": [
      "Train Loss : 0.0784 || Valid Loss : 0.1881 | Valid Accuracy : 94.2969%\n",
      "⚠️ No improvement for 1 epoch(s).\n"
     ]
    },
    {
     "name": "stderr",
     "output_type": "stream",
     "text": [
      "[Epoch 33/50] Training: 100%|██████████| 415/415 [45:09<00:00,  6.53s/it]\n",
      "[Epoch 33/50] Validation: 100%|██████████| 104/104 [02:21<00:00,  1.36s/it]\n",
      "c:\\Users\\user\\miniconda3\\envs\\HAI\\Lib\\site-packages\\sklearn\\metrics\\_classification.py:3001: UserWarning: The y_pred values do not sum to one. Make sure to pass probabilities.\n",
      "  warnings.warn(\n"
     ]
    },
    {
     "name": "stdout",
     "output_type": "stream",
     "text": [
      "Train Loss : 0.0748 || Valid Loss : 0.1858 | Valid Accuracy : 94.1159%\n",
      "📦 Best model saved at epoch 33 (logloss: 0.1857)\n"
     ]
    },
    {
     "name": "stderr",
     "output_type": "stream",
     "text": [
      "[Epoch 34/50] Training: 100%|██████████| 415/415 [45:06<00:00,  6.52s/it]\n",
      "[Epoch 34/50] Validation: 100%|██████████| 104/104 [02:20<00:00,  1.35s/it]\n",
      "c:\\Users\\user\\miniconda3\\envs\\HAI\\Lib\\site-packages\\sklearn\\metrics\\_classification.py:3001: UserWarning: The y_pred values do not sum to one. Make sure to pass probabilities.\n",
      "  warnings.warn(\n"
     ]
    },
    {
     "name": "stdout",
     "output_type": "stream",
     "text": [
      "Train Loss : 0.0711 || Valid Loss : 0.1759 | Valid Accuracy : 94.6741%\n",
      "📦 Best model saved at epoch 34 (logloss: 0.1758)\n"
     ]
    },
    {
     "name": "stderr",
     "output_type": "stream",
     "text": [
      "[Epoch 35/50] Training: 100%|██████████| 415/415 [45:10<00:00,  6.53s/it]\n",
      "[Epoch 35/50] Validation: 100%|██████████| 104/104 [02:21<00:00,  1.36s/it]\n",
      "c:\\Users\\user\\miniconda3\\envs\\HAI\\Lib\\site-packages\\sklearn\\metrics\\_classification.py:3001: UserWarning: The y_pred values do not sum to one. Make sure to pass probabilities.\n",
      "  warnings.warn(\n"
     ]
    },
    {
     "name": "stdout",
     "output_type": "stream",
     "text": [
      "Train Loss : 0.0677 || Valid Loss : 0.1794 | Valid Accuracy : 94.4931%\n",
      "⚠️ No improvement for 1 epoch(s).\n"
     ]
    },
    {
     "name": "stderr",
     "output_type": "stream",
     "text": [
      "[Epoch 36/50] Training: 100%|██████████| 415/415 [45:04<00:00,  6.52s/it]\n",
      "[Epoch 36/50] Validation: 100%|██████████| 104/104 [02:20<00:00,  1.35s/it]\n",
      "c:\\Users\\user\\miniconda3\\envs\\HAI\\Lib\\site-packages\\sklearn\\metrics\\_classification.py:3001: UserWarning: The y_pred values do not sum to one. Make sure to pass probabilities.\n",
      "  warnings.warn(\n"
     ]
    },
    {
     "name": "stdout",
     "output_type": "stream",
     "text": [
      "Train Loss : 0.0637 || Valid Loss : 0.1764 | Valid Accuracy : 94.6439%\n",
      "⚠️ No improvement for 2 epoch(s).\n"
     ]
    },
    {
     "name": "stderr",
     "output_type": "stream",
     "text": [
      "[Epoch 37/50] Training: 100%|██████████| 415/415 [45:36<00:00,  6.59s/it]\n",
      "[Epoch 37/50] Validation: 100%|██████████| 104/104 [02:35<00:00,  1.49s/it]\n",
      "c:\\Users\\user\\miniconda3\\envs\\HAI\\Lib\\site-packages\\sklearn\\metrics\\_classification.py:3001: UserWarning: The y_pred values do not sum to one. Make sure to pass probabilities.\n",
      "  warnings.warn(\n"
     ]
    },
    {
     "name": "stdout",
     "output_type": "stream",
     "text": [
      "Train Loss : 0.0593 || Valid Loss : 0.1730 | Valid Accuracy : 94.9155%\n",
      "📦 Best model saved at epoch 37 (logloss: 0.1731)\n"
     ]
    },
    {
     "name": "stderr",
     "output_type": "stream",
     "text": [
      "[Epoch 38/50] Training: 100%|██████████| 415/415 [46:46<00:00,  6.76s/it]\n",
      "[Epoch 38/50] Validation: 100%|██████████| 104/104 [02:15<00:00,  1.30s/it]\n",
      "c:\\Users\\user\\miniconda3\\envs\\HAI\\Lib\\site-packages\\sklearn\\metrics\\_classification.py:3001: UserWarning: The y_pred values do not sum to one. Make sure to pass probabilities.\n",
      "  warnings.warn(\n"
     ]
    },
    {
     "name": "stdout",
     "output_type": "stream",
     "text": [
      "Train Loss : 0.0556 || Valid Loss : 0.1787 | Valid Accuracy : 94.6892%\n",
      "⚠️ No improvement for 1 epoch(s).\n"
     ]
    },
    {
     "name": "stderr",
     "output_type": "stream",
     "text": [
      "[Epoch 39/50] Training: 100%|██████████| 415/415 [45:24<00:00,  6.56s/it]\n",
      "[Epoch 39/50] Validation: 100%|██████████| 104/104 [02:23<00:00,  1.38s/it]\n",
      "c:\\Users\\user\\miniconda3\\envs\\HAI\\Lib\\site-packages\\sklearn\\metrics\\_classification.py:3001: UserWarning: The y_pred values do not sum to one. Make sure to pass probabilities.\n",
      "  warnings.warn(\n"
     ]
    },
    {
     "name": "stdout",
     "output_type": "stream",
     "text": [
      "Train Loss : 0.0535 || Valid Loss : 0.1730 | Valid Accuracy : 94.6439%\n",
      "⚠️ No improvement for 2 epoch(s).\n"
     ]
    },
    {
     "name": "stderr",
     "output_type": "stream",
     "text": [
      "[Epoch 40/50] Training: 100%|██████████| 415/415 [46:19<00:00,  6.70s/it]\n",
      "[Epoch 40/50] Validation: 100%|██████████| 104/104 [02:20<00:00,  1.35s/it]\n",
      "c:\\Users\\user\\miniconda3\\envs\\HAI\\Lib\\site-packages\\sklearn\\metrics\\_classification.py:3001: UserWarning: The y_pred values do not sum to one. Make sure to pass probabilities.\n",
      "  warnings.warn(\n"
     ]
    },
    {
     "name": "stdout",
     "output_type": "stream",
     "text": [
      "Train Loss : 0.0503 || Valid Loss : 0.1729 | Valid Accuracy : 94.9306%\n",
      "⚠️ No improvement for 3 epoch(s).\n"
     ]
    },
    {
     "name": "stderr",
     "output_type": "stream",
     "text": [
      "[Epoch 41/50] Training: 100%|██████████| 415/415 [45:11<00:00,  6.53s/it]\n",
      "[Epoch 41/50] Validation: 100%|██████████| 104/104 [02:13<00:00,  1.28s/it]\n",
      "c:\\Users\\user\\miniconda3\\envs\\HAI\\Lib\\site-packages\\sklearn\\metrics\\_classification.py:3001: UserWarning: The y_pred values do not sum to one. Make sure to pass probabilities.\n",
      "  warnings.warn(\n"
     ]
    },
    {
     "name": "stdout",
     "output_type": "stream",
     "text": [
      "Train Loss : 0.0494 || Valid Loss : 0.1726 | Valid Accuracy : 94.5836%\n",
      "📦 Best model saved at epoch 41 (logloss: 0.1729)\n"
     ]
    },
    {
     "name": "stderr",
     "output_type": "stream",
     "text": [
      "[Epoch 42/50] Training: 100%|██████████| 415/415 [44:29<00:00,  6.43s/it]\n",
      "[Epoch 42/50] Validation: 100%|██████████| 104/104 [02:11<00:00,  1.26s/it]\n",
      "c:\\Users\\user\\miniconda3\\envs\\HAI\\Lib\\site-packages\\sklearn\\metrics\\_classification.py:3001: UserWarning: The y_pred values do not sum to one. Make sure to pass probabilities.\n",
      "  warnings.warn(\n"
     ]
    },
    {
     "name": "stdout",
     "output_type": "stream",
     "text": [
      "Train Loss : 0.0445 || Valid Loss : 0.1698 | Valid Accuracy : 94.7797%\n",
      "📦 Best model saved at epoch 42 (logloss: 0.1696)\n"
     ]
    },
    {
     "name": "stderr",
     "output_type": "stream",
     "text": [
      "[Epoch 43/50] Training: 100%|██████████| 415/415 [44:11<00:00,  6.39s/it]\n",
      "[Epoch 43/50] Validation: 100%|██████████| 104/104 [02:11<00:00,  1.27s/it]\n",
      "c:\\Users\\user\\miniconda3\\envs\\HAI\\Lib\\site-packages\\sklearn\\metrics\\_classification.py:3001: UserWarning: The y_pred values do not sum to one. Make sure to pass probabilities.\n",
      "  warnings.warn(\n"
     ]
    },
    {
     "name": "stdout",
     "output_type": "stream",
     "text": [
      "Train Loss : 0.0430 || Valid Loss : 0.1727 | Valid Accuracy : 94.9155%\n",
      "⚠️ No improvement for 1 epoch(s).\n"
     ]
    },
    {
     "name": "stderr",
     "output_type": "stream",
     "text": [
      "[Epoch 44/50] Training: 100%|██████████| 415/415 [44:07<00:00,  6.38s/it]\n",
      "[Epoch 44/50] Validation: 100%|██████████| 104/104 [02:11<00:00,  1.26s/it]\n",
      "c:\\Users\\user\\miniconda3\\envs\\HAI\\Lib\\site-packages\\sklearn\\metrics\\_classification.py:3001: UserWarning: The y_pred values do not sum to one. Make sure to pass probabilities.\n",
      "  warnings.warn(\n"
     ]
    },
    {
     "name": "stdout",
     "output_type": "stream",
     "text": [
      "Train Loss : 0.0414 || Valid Loss : 0.1729 | Valid Accuracy : 94.8702%\n",
      "⚠️ No improvement for 2 epoch(s).\n"
     ]
    },
    {
     "name": "stderr",
     "output_type": "stream",
     "text": [
      "[Epoch 45/50] Training: 100%|██████████| 415/415 [44:02<00:00,  6.37s/it]\n",
      "[Epoch 45/50] Validation: 100%|██████████| 104/104 [02:10<00:00,  1.25s/it]\n",
      "c:\\Users\\user\\miniconda3\\envs\\HAI\\Lib\\site-packages\\sklearn\\metrics\\_classification.py:3001: UserWarning: The y_pred values do not sum to one. Make sure to pass probabilities.\n",
      "  warnings.warn(\n"
     ]
    },
    {
     "name": "stdout",
     "output_type": "stream",
     "text": [
      "Train Loss : 0.0399 || Valid Loss : 0.1718 | Valid Accuracy : 95.0664%\n",
      "⚠️ No improvement for 3 epoch(s).\n"
     ]
    },
    {
     "name": "stderr",
     "output_type": "stream",
     "text": [
      "[Epoch 46/50] Training: 100%|██████████| 415/415 [44:27<00:00,  6.43s/it]\n",
      "[Epoch 46/50] Validation: 100%|██████████| 104/104 [02:10<00:00,  1.26s/it]\n",
      "c:\\Users\\user\\miniconda3\\envs\\HAI\\Lib\\site-packages\\sklearn\\metrics\\_classification.py:3001: UserWarning: The y_pred values do not sum to one. Make sure to pass probabilities.\n",
      "  warnings.warn(\n"
     ]
    },
    {
     "name": "stdout",
     "output_type": "stream",
     "text": [
      "Train Loss : 0.0383 || Valid Loss : 0.1730 | Valid Accuracy : 95.0211%\n",
      "⚠️ No improvement for 4 epoch(s).\n"
     ]
    },
    {
     "name": "stderr",
     "output_type": "stream",
     "text": [
      "[Epoch 47/50] Training: 100%|██████████| 415/415 [45:07<00:00,  6.52s/it]\n",
      "[Epoch 47/50] Validation: 100%|██████████| 104/104 [02:21<00:00,  1.36s/it]"
     ]
    },
    {
     "name": "stdout",
     "output_type": "stream",
     "text": [
      "Train Loss : 0.0356 || Valid Loss : 0.1703 | Valid Accuracy : 95.0362%\n",
      "⚠️ No improvement for 5 epoch(s).\n",
      "⏹ Early stopping triggered at epoch 47\n"
     ]
    },
    {
     "name": "stderr",
     "output_type": "stream",
     "text": [
      "\n",
      "c:\\Users\\user\\miniconda3\\envs\\HAI\\Lib\\site-packages\\sklearn\\metrics\\_classification.py:3001: UserWarning: The y_pred values do not sum to one. Make sure to pass probabilities.\n",
      "  warnings.warn(\n"
     ]
    }
   ],
   "source": [
    "# 위에 있는거 백업\n",
    "'''\n",
    "model = BaseModel(model_name=CFG['MODEL_NAME'], num_classes=len(class_names)).to(device)\n",
    "best_logloss = float('inf')\n",
    "# 추가: Early Stopping을 위한 변수\n",
    "patience = 5  # 개선 없을 때 몇 epoch까지 기다릴지\n",
    "counter = 0   # 현재까지 개선되지 않은 횟수\n",
    "\n",
    "# 손실 함수\n",
    "criterion = nn.CrossEntropyLoss()\n",
    "\n",
    "# 옵티마이저\n",
    "optimizer = optim.Adam(model.parameters(), lr=CFG['LEARNING_RATE'])\n",
    "\n",
    "# 학습 및 검증 루프\n",
    "for epoch in range(CFG['EPOCHS']):\n",
    "    # Train\n",
    "    model.train()\n",
    "    train_loss = 0.0\n",
    "    for images, labels in tqdm(train_loader, desc=f\"[Epoch {epoch+1}/{CFG['EPOCHS']}] Training\"):\n",
    "        images, labels = images.to(device), labels.to(device)\n",
    "        optimizer.zero_grad()\n",
    "        outputs = model(images)  # logits\n",
    "        loss = criterion(outputs, labels)\n",
    "        loss.backward()\n",
    "        optimizer.step()\n",
    "        \n",
    "        train_loss += loss.item()\n",
    "\n",
    "    avg_train_loss = train_loss / len(train_loader)\n",
    "\n",
    "    # Validation\n",
    "    model.eval()\n",
    "    val_loss = 0.0\n",
    "    correct = 0\n",
    "    total = 0\n",
    "    all_probs = []\n",
    "    all_labels = []\n",
    "\n",
    "    with torch.no_grad():\n",
    "        for images, labels in tqdm(val_loader, desc=f\"[Epoch {epoch+1}/{CFG['EPOCHS']}] Validation\"):\n",
    "            images, labels = images.to(device), labels.to(device)\n",
    "            outputs = model(images)\n",
    "            loss = criterion(outputs, labels)\n",
    "            val_loss += loss.item()\n",
    "\n",
    "            # Accuracy\n",
    "            _, preds = torch.max(outputs, 1)\n",
    "            correct += (preds == labels).sum().item()\n",
    "            total += labels.size(0)\n",
    "\n",
    "            # LogLoss\n",
    "            probs = F.softmax(outputs, dim=1)\n",
    "            all_probs.extend(probs.cpu().numpy())\n",
    "            all_labels.extend(labels.cpu().numpy())\n",
    "\n",
    "    avg_val_loss = val_loss / len(val_loader)\n",
    "    val_accuracy = 100 * correct / total\n",
    "    val_logloss = log_loss(all_labels, all_probs, labels=list(range(len(class_names))))\n",
    "\n",
    "    # 결과 출력\n",
    "    print(f\"Train Loss : {avg_train_loss:.4f} || Valid Loss : {avg_val_loss:.4f} | Valid Accuracy : {val_accuracy:.4f}%\")\n",
    "\n",
    "    # Best model 저장\n",
    "    if val_logloss < best_logloss:\n",
    "        best_logloss = val_logloss\n",
    "        torch.save(model.state_dict(), f'./pth/best_model.pth')\n",
    "        print(f\"📦 Best model saved at epoch {epoch+1} (logloss: {val_logloss:.4f})\")\n",
    "        counter = 0  # 성능 개선되었으므로 초기화\n",
    "    else:\n",
    "        counter += 1\n",
    "        print(f\"⚠️ No improvement for {counter} epoch(s).\")\n",
    "        if counter >= patience:\n",
    "            print(f\"⏹ Early stopping triggered at epoch {epoch+1}\")\n",
    "            break  # 학습 중단\n",
    "'''"
   ]
  },
  {
   "cell_type": "markdown",
   "metadata": {},
   "source": [
    "# Inference"
   ]
  },
  {
   "cell_type": "code",
   "execution_count": 11,
   "metadata": {},
   "outputs": [],
   "source": [
    "test_dataset = CustomImageDataset(test_root, transform=val_transform, is_test=True)\n",
    "test_loader = DataLoader(test_dataset, batch_size=CFG['BATCH_SIZE'], shuffle=False)"
   ]
  },
  {
   "cell_type": "code",
   "execution_count": 12,
   "metadata": {},
   "outputs": [],
   "source": [
    "# 저장된 모델 로드\n",
    "model = BaseModel(model_name=CFG['MODEL_NAME'], num_classes=len(class_names))\n",
    "model.load_state_dict(torch.load('best_model.pth', map_location=device))\n",
    "model.to(device)\n",
    "\n",
    "# 추론\n",
    "model.eval()\n",
    "results = []\n",
    "\n",
    "with torch.no_grad():\n",
    "    for images in test_loader:\n",
    "        images = images.to(device)\n",
    "        outputs = model(images)\n",
    "        probs = F.softmax(outputs, dim=1)\n",
    "\n",
    "        # 각 배치의 확률을 리스트로 변환\n",
    "        for prob in probs.cpu():  # prob: (num_classes,)\n",
    "            result = {\n",
    "                class_names[i]: prob[i].item()\n",
    "                for i in ran ge(len(class_names))\n",
    "            }\n",
    "            results.append(result)\n",
    "            \n",
    "pred = pd.DataFrame(results)"
   ]
  },
  {
   "cell_type": "markdown",
   "metadata": {},
   "source": [
    "# Submission"
   ]
  },
  {
   "cell_type": "code",
   "execution_count": 13,
   "metadata": {},
   "outputs": [],
   "source": [
    "submission = pd.read_csv('./result/sample_submission.csv', encoding='utf-8-sig')\n",
    "\n",
    "# 'ID' 컬럼을 제외한 클래스 컬럼 정렬\n",
    "class_columns = submission.columns[1:]\n",
    "pred = pred[class_columns]\n",
    "\n",
    "submission[class_columns] = pred.values\n",
    "submission.to_csv(f'./result/{CFG['FILE_NAME']}.csv', index=False, encoding='utf-8-sig')"
   ]
  }
 ],
 "metadata": {
  "kernelspec": {
   "display_name": "HAI",
   "language": "python",
   "name": "python3"
  },
  "language_info": {
   "codemirror_mode": {
    "name": "ipython",
    "version": 3
   },
   "file_extension": ".py",
   "mimetype": "text/x-python",
   "name": "python",
   "nbconvert_exporter": "python",
   "pygments_lexer": "ipython3",
   "version": "3.13.2"
  }
 },
 "nbformat": 4,
 "nbformat_minor": 2
}
